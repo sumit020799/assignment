{
 "cells": [
  {
   "cell_type": "code",
   "execution_count": 2,
   "metadata": {},
   "outputs": [
    {
     "name": "stdout",
     "output_type": "stream",
     "text": [
      "Your grade is A\n"
     ]
    }
   ],
   "source": [
    "'''1. write a program to accept percentage from the user and display the grade according to the following criteria:\n",
    "marks            garde\n",
    ">90              A\n",
    ">80 and <=90     B\n",
    ">=60 and <=80    C\n",
    "below 60         D '''\n",
    "\n",
    "percentage = float(input(\"Enter your percentage: \"))\n",
    "\n",
    "if percentage > 90:\n",
    "    print(\"Your grade is A\")\n",
    "elif percentage > 80 and percentage <= 90:\n",
    "    print(\"Your grade is B\")\n",
    "elif percentage >= 60 and percentage <= 80:\n",
    "    print(\"Your grade is C\")\n",
    "else:\n",
    "    print(\"Your grade is D\")\n",
    "\n",
    "\n"
   ]
  },
  {
   "cell_type": "code",
   "execution_count": 4,
   "metadata": {},
   "outputs": [
    {
     "name": "stdout",
     "output_type": "stream",
     "text": [
      "The road tax to be paid is: Rs 6500.0\n"
     ]
    }
   ],
   "source": [
    "'''2.write a program to accepct the cost price of a bike and display the road tax to be paid according to the following criteria:\n",
    "Tax                      Cost Price(in Rs)\n",
    "15%                      >100000\n",
    "10%                      >50000 and <=100000\n",
    "5%                       <=50000'''\n",
    "\n",
    "cost_price = float(input(\"Enter the cost price of the bike (in Rs): \"))\n",
    "\n",
    "if cost_price > 100000:\n",
    "    road_tax = cost_price * 0.15\n",
    "elif cost_price > 50000 and cost_price <= 100000:\n",
    "    road_tax = cost_price * 0.1\n",
    "else:\n",
    "    road_tax = cost_price * 0.05\n",
    "\n",
    "print(\"The road tax to be paid is: Rs\", road_tax)\n"
   ]
  },
  {
   "cell_type": "code",
   "execution_count": 5,
   "metadata": {},
   "outputs": [
    {
     "name": "stdout",
     "output_type": "stream",
     "text": [
      "Monument of Jaipur: Jal Mahal\n"
     ]
    }
   ],
   "source": [
    "'''3. Accept and city from the user and display mounments of the city.\n",
    "City                  Monuments\n",
    "Delhi                 Red Fort\n",
    "Agra                  Taj Mahal\n",
    "Jaipur                Jal Mahal'''\n",
    "\n",
    "city = input(\"Enter a city: \")\n",
    "\n",
    "if city.lower() == \"delhi\":\n",
    "    print(\"Monument of Delhi: Red Fort\")\n",
    "elif city.lower() == \"agra\":\n",
    "    print(\"Monument of Agra: Taj Mahal\")\n",
    "elif city.lower() == \"jaipur\":\n",
    "    print(\"Monument of Jaipur: Jal Mahal\")\n",
    "else:\n",
    "    print(\"Sorry, we do not have information about monuments in that city.\")"
   ]
  },
  {
   "cell_type": "code",
   "execution_count": 9,
   "metadata": {},
   "outputs": [
    {
     "name": "stdout",
     "output_type": "stream",
     "text": [
      "The number can be divided by 3 2 times before it is less than or equal to 10.\n"
     ]
    }
   ],
   "source": [
    "#4. check how many times a given number can be divided by 3 before it is less than or equal to 10.\n",
    "\n",
    "num = int(input(\"Enter a number: \"))\n",
    "count = 0\n",
    "\n",
    "while num > 10:\n",
    "    num = num / 3\n",
    "    count += 1\n",
    "\n",
    "print(f\"The number can be divided by 3 {count} times before it is less than or equal to 10.\")"
   ]
  },
  {
   "cell_type": "code",
   "execution_count": null,
   "metadata": {},
   "outputs": [],
   "source": [
    "#5. why and when to use while loop in Python give a detailed description with example.\n",
    "\n",
    "'''we use while loop to repeatedly execute a block of code as long as a certain condition is true. Condition is in boolean expression\n",
    "that is evaluated at the beginning of each iteration of the loop.if boolean.If the condition is true, the code inside the loop is executed and\n",
    "if the condition is false it's break the loop and stop executing.\n",
    "The condition when we use while loop:-\n",
    "1.) When we need to perform a task for a certain number of times. \n",
    "    count = 0\n",
    "while count < 5:\n",
    "    print(\"Hello, world!\")\n",
    "    count += \n",
    "this code print \"Hello,world five times\n",
    "2.)  when we need to repeat a block of code until a certain condition  '''\n"
   ]
  },
  {
   "cell_type": "code",
   "execution_count": 12,
   "metadata": {},
   "outputs": [
    {
     "name": "stdout",
     "output_type": "stream",
     "text": [
      "*\n",
      "**\n",
      "***\n",
      "****\n",
      "*****\n"
     ]
    }
   ],
   "source": [
    "#6. Use nested while loop to print 3 different pattern.\n",
    "#first pattern\n",
    "i = 1\n",
    "while i <= 5:\n",
    "    j = 1\n",
    "    while j <= i:\n",
    "        print(\"*\", end=\"\")\n",
    "        j += 1\n",
    "    print()\n",
    "    i += 1\n",
    "\n",
    "    "
   ]
  },
  {
   "cell_type": "code",
   "execution_count": 13,
   "metadata": {},
   "outputs": [
    {
     "name": "stdout",
     "output_type": "stream",
     "text": [
      "****\n",
      "***\n",
      "**\n",
      "*\n"
     ]
    }
   ],
   "source": [
    "#Second Pattern\n",
    "i = 4\n",
    "while i >= 1:\n",
    "    j = 1\n",
    "    while j <= i:\n",
    "        print(\"*\", end=\"\")\n",
    "        j += 1\n",
    "    print()\n",
    "    i -= 1"
   ]
  },
  {
   "cell_type": "code",
   "execution_count": 14,
   "metadata": {},
   "outputs": [
    {
     "name": "stdout",
     "output_type": "stream",
     "text": [
      "    * \n",
      "   * * \n",
      "  * * * \n",
      " * * * * \n"
     ]
    }
   ],
   "source": [
    "#Third Pattern\n",
    "\n",
    "height = 4\n",
    "i = 0\n",
    "while i < height:\n",
    "    j = 0\n",
    "    while j < height - i:\n",
    "        print(\" \", end=\"\")\n",
    "        j += 1\n",
    "    k = 0\n",
    "    while k <= i:\n",
    "        print(\"* \", end=\"\")\n",
    "        k += 1\n",
    "    print()\n",
    "    i += 1"
   ]
  },
  {
   "cell_type": "code",
   "execution_count": 15,
   "metadata": {},
   "outputs": [
    {
     "name": "stdout",
     "output_type": "stream",
     "text": [
      "10\n",
      "9\n",
      "8\n",
      "7\n",
      "6\n",
      "5\n",
      "4\n",
      "3\n",
      "2\n",
      "1\n"
     ]
    }
   ],
   "source": [
    "#7. Reverse a while loop to display number from 10 to 1.\n",
    "\n",
    "num = 10\n",
    "while num >= 1:\n",
    "    print(num)\n",
    "    num -= 1"
   ]
  },
  {
   "cell_type": "code",
   "execution_count": null,
   "metadata": {},
   "outputs": [],
   "source": [
    "#8th number question is same as the 7th number of the question."
   ]
  }
 ],
 "metadata": {
  "kernelspec": {
   "display_name": "Python 3",
   "language": "python",
   "name": "python3"
  },
  "language_info": {
   "codemirror_mode": {
    "name": "ipython",
    "version": 3
   },
   "file_extension": ".py",
   "mimetype": "text/x-python",
   "name": "python",
   "nbconvert_exporter": "python",
   "pygments_lexer": "ipython3",
   "version": "3.11.4"
  },
  "orig_nbformat": 4
 },
 "nbformat": 4,
 "nbformat_minor": 2
}
